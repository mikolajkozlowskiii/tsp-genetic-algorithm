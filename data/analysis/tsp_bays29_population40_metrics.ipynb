{
 "cells": [
  {
   "cell_type": "code",
   "execution_count": 27,
   "id": "4619409b84e673b8",
   "metadata": {
    "ExecuteTime": {
     "end_time": "2024-12-29T00:34:44.286011Z",
     "start_time": "2024-12-29T00:34:44.278188Z"
    }
   },
   "outputs": [],
   "source": [
    "import pandas as pd"
   ]
  },
  {
   "cell_type": "code",
   "execution_count": 28,
   "id": "3cea9903950a8ad3",
   "metadata": {
    "ExecuteTime": {
     "end_time": "2024-12-29T00:37:09.194479Z",
     "start_time": "2024-12-29T00:34:44.281863Z"
    }
   },
   "outputs": [],
   "source": [
    "df = pd.read_json('bays29_population40.json')"
   ]
  },
  {
   "cell_type": "code",
   "execution_count": 29,
   "id": "634f91c1e4fadc85",
   "metadata": {
    "ExecuteTime": {
     "end_time": "2024-12-29T00:37:09.345255Z",
     "start_time": "2024-12-29T00:37:09.179233Z"
    }
   },
   "outputs": [],
   "source": [
    "df_expanded = df.explode('tspOutputs')"
   ]
  },
  {
   "cell_type": "code",
   "execution_count": 30,
   "id": "8c10cb5ef2bfb9ab",
   "metadata": {
    "ExecuteTime": {
     "end_time": "2024-12-29T00:45:22.400281Z",
     "start_time": "2024-12-29T00:37:09.389486Z"
    }
   },
   "outputs": [],
   "source": [
    "df_expanded = pd.concat(\n",
    "    [df_expanded.drop(columns='tspOutputs'), df_expanded['tspOutputs'].apply(pd.Series)],\n",
    "    axis=1\n",
    ")"
   ]
  },
  {
   "cell_type": "code",
   "execution_count": 31,
   "id": "76bc70365d3ee930",
   "metadata": {
    "ExecuteTime": {
     "end_time": "2024-12-29T00:45:39.532862Z",
     "start_time": "2024-12-29T00:45:22.386769Z"
    }
   },
   "outputs": [],
   "source": [
    "grouped = df_expanded.groupby(['mutationType', 'crossoverType', 'selectionType'])"
   ]
  },
  {
   "cell_type": "code",
   "execution_count": 32,
   "id": "f59e4bdfcd35de6e",
   "metadata": {
    "ExecuteTime": {
     "end_time": "2024-12-29T00:45:39.583158Z",
     "start_time": "2024-12-29T00:45:39.540009Z"
    }
   },
   "outputs": [],
   "source": [
    "summary_stats = grouped['distance'].describe()"
   ]
  },
  {
   "cell_type": "code",
   "execution_count": 33,
   "id": "7823d5f11fa857e2",
   "metadata": {
    "collapsed": false,
    "ExecuteTime": {
     "end_time": "2024-12-29T00:45:39.603330Z",
     "start_time": "2024-12-29T00:45:39.597048Z"
    }
   },
   "outputs": [
    {
     "data": {
      "text/plain": "                      mean         std          p25          p50          p75  \\\nmutationType                                                                    \nADJACENT_SWAP  3370.949778  243.035787  3208.027778  3367.500000  3534.750000   \nINSERTION      2927.602333  170.314320  2813.277778  2924.277778  3042.694444   \nINVERSION      2819.195556  137.239120  2726.888889  2816.166667  2910.305556   \nSWAP           3051.887778  188.798091  2923.250000  3050.944444  3180.111111   \n\n                       max  \nmutationType                \nADJACENT_SWAP  4114.555556  \nINSERTION      3500.111111  \nINVERSION      3260.000000  \nSWAP           3691.111111  ",
      "text/html": "<div>\n<style scoped>\n    .dataframe tbody tr th:only-of-type {\n        vertical-align: middle;\n    }\n\n    .dataframe tbody tr th {\n        vertical-align: top;\n    }\n\n    .dataframe thead th {\n        text-align: right;\n    }\n</style>\n<table border=\"1\" class=\"dataframe\">\n  <thead>\n    <tr style=\"text-align: right;\">\n      <th></th>\n      <th>mean</th>\n      <th>std</th>\n      <th>p25</th>\n      <th>p50</th>\n      <th>p75</th>\n      <th>max</th>\n    </tr>\n    <tr>\n      <th>mutationType</th>\n      <th></th>\n      <th></th>\n      <th></th>\n      <th></th>\n      <th></th>\n      <th></th>\n    </tr>\n  </thead>\n  <tbody>\n    <tr>\n      <th>ADJACENT_SWAP</th>\n      <td>3370.949778</td>\n      <td>243.035787</td>\n      <td>3208.027778</td>\n      <td>3367.500000</td>\n      <td>3534.750000</td>\n      <td>4114.555556</td>\n    </tr>\n    <tr>\n      <th>INSERTION</th>\n      <td>2927.602333</td>\n      <td>170.314320</td>\n      <td>2813.277778</td>\n      <td>2924.277778</td>\n      <td>3042.694444</td>\n      <td>3500.111111</td>\n    </tr>\n    <tr>\n      <th>INVERSION</th>\n      <td>2819.195556</td>\n      <td>137.239120</td>\n      <td>2726.888889</td>\n      <td>2816.166667</td>\n      <td>2910.305556</td>\n      <td>3260.000000</td>\n    </tr>\n    <tr>\n      <th>SWAP</th>\n      <td>3051.887778</td>\n      <td>188.798091</td>\n      <td>2923.250000</td>\n      <td>3050.944444</td>\n      <td>3180.111111</td>\n      <td>3691.111111</td>\n    </tr>\n  </tbody>\n</table>\n</div>"
     },
     "execution_count": 33,
     "metadata": {},
     "output_type": "execute_result"
    }
   ],
   "source": [
    "summary_stats.groupby(level='mutationType').agg(\n",
    "    mean=('mean', 'mean'),\n",
    "    std=('std', 'mean'),\n",
    "    p25=('25%', 'mean'),\n",
    "    p50=('50%', 'mean'),\n",
    "    p75=('75%', 'mean'),\n",
    "    max=('max', 'mean')\n",
    ")"
   ]
  },
  {
   "cell_type": "code",
   "execution_count": 34,
   "id": "8e73ba8669490a72",
   "metadata": {
    "collapsed": false,
    "ExecuteTime": {
     "end_time": "2024-12-29T00:45:39.615855Z",
     "start_time": "2024-12-29T00:45:39.606350Z"
    }
   },
   "outputs": [
    {
     "data": {
      "text/plain": "                      mean         std          p25          p50          p75  \\\ncrossoverType                                                                   \nOX1            2809.150583  120.950811  2727.354167  2802.250000  2885.750000   \nPMX            3140.899750  201.092242  3007.375000  3142.500000  3278.708333   \nSINGLE_POINT   3177.176250  232.497435  3018.854167  3174.416667  3336.437500   \n\n                       max  \ncrossoverType               \nOX1            3256.166667  \nPMX            3770.750000  \nSINGLE_POINT   3897.416667  ",
      "text/html": "<div>\n<style scoped>\n    .dataframe tbody tr th:only-of-type {\n        vertical-align: middle;\n    }\n\n    .dataframe tbody tr th {\n        vertical-align: top;\n    }\n\n    .dataframe thead th {\n        text-align: right;\n    }\n</style>\n<table border=\"1\" class=\"dataframe\">\n  <thead>\n    <tr style=\"text-align: right;\">\n      <th></th>\n      <th>mean</th>\n      <th>std</th>\n      <th>p25</th>\n      <th>p50</th>\n      <th>p75</th>\n      <th>max</th>\n    </tr>\n    <tr>\n      <th>crossoverType</th>\n      <th></th>\n      <th></th>\n      <th></th>\n      <th></th>\n      <th></th>\n      <th></th>\n    </tr>\n  </thead>\n  <tbody>\n    <tr>\n      <th>OX1</th>\n      <td>2809.150583</td>\n      <td>120.950811</td>\n      <td>2727.354167</td>\n      <td>2802.250000</td>\n      <td>2885.750000</td>\n      <td>3256.166667</td>\n    </tr>\n    <tr>\n      <th>PMX</th>\n      <td>3140.899750</td>\n      <td>201.092242</td>\n      <td>3007.375000</td>\n      <td>3142.500000</td>\n      <td>3278.708333</td>\n      <td>3770.750000</td>\n    </tr>\n    <tr>\n      <th>SINGLE_POINT</th>\n      <td>3177.176250</td>\n      <td>232.497435</td>\n      <td>3018.854167</td>\n      <td>3174.416667</td>\n      <td>3336.437500</td>\n      <td>3897.416667</td>\n    </tr>\n  </tbody>\n</table>\n</div>"
     },
     "execution_count": 34,
     "metadata": {},
     "output_type": "execute_result"
    }
   ],
   "source": [
    "summary_stats.groupby(level='crossoverType').agg(\n",
    "    mean=('mean', 'mean'),\n",
    "    std=('std', 'mean'),\n",
    "    p25=('25%', 'mean'),\n",
    "    p50=('50%', 'mean'),\n",
    "    p75=('75%', 'mean'),\n",
    "    max=('max', 'mean')\n",
    ")"
   ]
  },
  {
   "cell_type": "code",
   "execution_count": 35,
   "id": "ae95807d4afc1106",
   "metadata": {
    "collapsed": false,
    "ExecuteTime": {
     "end_time": "2024-12-29T00:45:39.625495Z",
     "start_time": "2024-12-29T00:45:39.616043Z"
    }
   },
   "outputs": [
    {
     "data": {
      "text/plain": "                      mean         std          p25          p50          p75  \\\nselectionType                                                                   \nRANK           2591.782000  164.594073  2473.854167  2582.750000  2700.937500   \nROULETTE       3857.153833  204.758515  3730.208333  3871.583333  4003.979167   \nTOURNAMENT     2678.290750  185.187900  2549.520833  2664.833333  2795.979167   \n\n                       max  \nselectionType               \nRANK           3191.083333  \nROULETTE       4364.083333  \nTOURNAMENT     3369.166667  ",
      "text/html": "<div>\n<style scoped>\n    .dataframe tbody tr th:only-of-type {\n        vertical-align: middle;\n    }\n\n    .dataframe tbody tr th {\n        vertical-align: top;\n    }\n\n    .dataframe thead th {\n        text-align: right;\n    }\n</style>\n<table border=\"1\" class=\"dataframe\">\n  <thead>\n    <tr style=\"text-align: right;\">\n      <th></th>\n      <th>mean</th>\n      <th>std</th>\n      <th>p25</th>\n      <th>p50</th>\n      <th>p75</th>\n      <th>max</th>\n    </tr>\n    <tr>\n      <th>selectionType</th>\n      <th></th>\n      <th></th>\n      <th></th>\n      <th></th>\n      <th></th>\n      <th></th>\n    </tr>\n  </thead>\n  <tbody>\n    <tr>\n      <th>RANK</th>\n      <td>2591.782000</td>\n      <td>164.594073</td>\n      <td>2473.854167</td>\n      <td>2582.750000</td>\n      <td>2700.937500</td>\n      <td>3191.083333</td>\n    </tr>\n    <tr>\n      <th>ROULETTE</th>\n      <td>3857.153833</td>\n      <td>204.758515</td>\n      <td>3730.208333</td>\n      <td>3871.583333</td>\n      <td>4003.979167</td>\n      <td>4364.083333</td>\n    </tr>\n    <tr>\n      <th>TOURNAMENT</th>\n      <td>2678.290750</td>\n      <td>185.187900</td>\n      <td>2549.520833</td>\n      <td>2664.833333</td>\n      <td>2795.979167</td>\n      <td>3369.166667</td>\n    </tr>\n  </tbody>\n</table>\n</div>"
     },
     "execution_count": 35,
     "metadata": {},
     "output_type": "execute_result"
    }
   ],
   "source": [
    "summary_stats.groupby(level='selectionType').agg(\n",
    "    mean=('mean', 'mean'),\n",
    "    std=('std', 'mean'),\n",
    "    p25=('25%', 'mean'),\n",
    "    p50=('50%', 'mean'),\n",
    "    p75=('75%', 'mean'),\n",
    "    max=('max', 'mean')\n",
    ")"
   ]
  },
  {
   "cell_type": "code",
   "execution_count": 39,
   "id": "efee252efcbe90d",
   "metadata": {
    "collapsed": false,
    "ExecuteTime": {
     "end_time": "2024-12-29T00:47:19.093Z",
     "start_time": "2024-12-29T00:47:19.087932Z"
    }
   },
   "outputs": [
    {
     "name": "stdout",
     "output_type": "stream",
     "text": [
      "Lowest Metrics\n",
      "\n",
      "lowest mean:\n",
      "count    1000.000000\n",
      "mean     2109.583000\n",
      "std        68.524921\n",
      "min      2020.000000\n",
      "25%      2061.000000\n",
      "50%      2094.000000\n",
      "75%      2149.000000\n",
      "max      2449.000000\n",
      "Name: (INVERSION, OX1, RANK), dtype: float64\n",
      "\n",
      "lowest std:\n",
      "count    1000.000000\n",
      "mean     2109.583000\n",
      "std        68.524921\n",
      "min      2020.000000\n",
      "25%      2061.000000\n",
      "50%      2094.000000\n",
      "75%      2149.000000\n",
      "max      2449.000000\n",
      "Name: (INVERSION, OX1, RANK), dtype: float64\n",
      "\n",
      "lowest 25%:\n",
      "count    1000.000000\n",
      "mean     2109.583000\n",
      "std        68.524921\n",
      "min      2020.000000\n",
      "25%      2061.000000\n",
      "50%      2094.000000\n",
      "75%      2149.000000\n",
      "max      2449.000000\n",
      "Name: (INVERSION, OX1, RANK), dtype: float64\n",
      "\n",
      "lowest 50%:\n",
      "count    1000.000000\n",
      "mean     2109.583000\n",
      "std        68.524921\n",
      "min      2020.000000\n",
      "25%      2061.000000\n",
      "50%      2094.000000\n",
      "75%      2149.000000\n",
      "max      2449.000000\n",
      "Name: (INVERSION, OX1, RANK), dtype: float64\n",
      "\n",
      "lowest 75%:\n",
      "count    1000.000000\n",
      "mean     2109.583000\n",
      "std        68.524921\n",
      "min      2020.000000\n",
      "25%      2061.000000\n",
      "50%      2094.000000\n",
      "75%      2149.000000\n",
      "max      2449.000000\n",
      "Name: (INVERSION, OX1, RANK), dtype: float64\n",
      "\n",
      "lowest max:\n",
      "count    1000.000000\n",
      "mean     2109.583000\n",
      "std        68.524921\n",
      "min      2020.000000\n",
      "25%      2061.000000\n",
      "50%      2094.000000\n",
      "75%      2149.000000\n",
      "max      2449.000000\n",
      "Name: (INVERSION, OX1, RANK), dtype: float64\n"
     ]
    }
   ],
   "source": [
    "lowest_metrics = {\n",
    "    \"lowest mean\": summary_stats.loc[summary_stats['mean'].idxmin()],\n",
    "    \"lowest std\": summary_stats.loc[summary_stats['std'].idxmin()],\n",
    "    \"lowest 25%\": summary_stats.loc[summary_stats['25%'].idxmin()],\n",
    "    \"lowest 50%\": summary_stats.loc[summary_stats['50%'].idxmin()],\n",
    "    \"lowest 75%\": summary_stats.loc[summary_stats['75%'].idxmin()],\n",
    "    \"lowest max\": summary_stats.loc[summary_stats['max'].idxmin()],\n",
    "}\n",
    "\n",
    "print(\"Lowest Metrics\")\n",
    "for metric, row in lowest_metrics.items():\n",
    "    print(f\"\\n{metric}:\\n{row}\")\n"
   ]
  }
 ],
 "metadata": {
  "kernelspec": {
   "display_name": "Python 3 (ipykernel)",
   "language": "python",
   "name": "python3"
  },
  "language_info": {
   "codemirror_mode": {
    "name": "ipython",
    "version": 3
   },
   "file_extension": ".py",
   "mimetype": "text/x-python",
   "name": "python",
   "nbconvert_exporter": "python",
   "pygments_lexer": "ipython3",
   "version": "3.9.6"
  }
 },
 "nbformat": 4,
 "nbformat_minor": 5
}
