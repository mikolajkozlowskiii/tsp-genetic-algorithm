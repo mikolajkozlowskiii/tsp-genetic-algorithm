{
 "cells": [
  {
   "cell_type": "code",
   "id": "e3a20ec7-293e-4a4f-8f6e-fd23bee6466b",
   "metadata": {
    "ExecuteTime": {
     "end_time": "2024-12-27T19:13:10.306703Z",
     "start_time": "2024-12-27T19:13:10.303805Z"
    }
   },
   "source": [
    "import json"
   ],
   "outputs": [],
   "execution_count": 21
  },
  {
   "metadata": {
    "ExecuteTime": {
     "end_time": "2024-12-27T19:13:41.322164Z",
     "start_time": "2024-12-27T19:13:10.316232Z"
    }
   },
   "cell_type": "code",
   "source": [
    "file_path = \"bays29_population40.json\"\n",
    "\n",
    "with open(file_path, 'r') as file:\n",
    "    data = json.load(file)"
   ],
   "id": "bc8786e22bdca3d3",
   "outputs": [],
   "execution_count": 22
  },
  {
   "metadata": {
    "ExecuteTime": {
     "end_time": "2024-12-27T19:13:41.347069Z",
     "start_time": "2024-12-27T19:13:41.344070Z"
    }
   },
   "cell_type": "code",
   "source": [
    "min_distance = float('inf')\n",
    "max_distance = float('-inf')\n",
    "\n",
    "min_results = []\n",
    "max_results = []"
   ],
   "id": "86d29b5c20faa163",
   "outputs": [],
   "execution_count": 23
  },
  {
   "metadata": {
    "ExecuteTime": {
     "end_time": "2024-12-27T19:13:41.851435Z",
     "start_time": "2024-12-27T19:13:41.373101Z"
    }
   },
   "cell_type": "code",
   "source": [
    "for entry in data:\n",
    "    mutation_type = entry['mutationType']\n",
    "    crossover_type = entry['crossoverType']\n",
    "    selection_type = entry['selectionType']\n",
    "    \n",
    "    for tsp_output in entry['tspOutputs']:\n",
    "        distance = tsp_output['distance']\n",
    "        genes = tsp_output.get('bestChromosome', {}).get('genes', [])\n",
    "\n",
    "        if distance < min_distance:\n",
    "            min_distance = distance\n",
    "            min_results = [{\n",
    "                'distance': distance,\n",
    "                'mutationType': mutation_type,\n",
    "                'crossoverType': crossover_type,\n",
    "                'selectionType': selection_type,\n",
    "                'genes': genes\n",
    "            }]\n",
    "        elif distance == min_distance:\n",
    "            min_results.append({\n",
    "                'distance': distance,\n",
    "                'mutationType': mutation_type,\n",
    "                'crossoverType': crossover_type,\n",
    "                'selectionType': selection_type,\n",
    "                'genes': genes\n",
    "            })\n",
    "        \n",
    "        if distance > max_distance:\n",
    "            max_distance = distance\n",
    "            max_results = [{\n",
    "                'distance': distance,\n",
    "                'mutationType': mutation_type,\n",
    "                'crossoverType': crossover_type,\n",
    "                'selectionType': selection_type,\n",
    "                'genes': genes\n",
    "            }]\n",
    "        elif distance == max_distance:\n",
    "            max_results.append({\n",
    "                'distance': distance,\n",
    "                'mutationType': mutation_type,\n",
    "                'crossoverType': crossover_type,\n",
    "                'selectionType': selection_type,\n",
    "                'genes': genes\n",
    "            })"
   ],
   "id": "18d445bdf760b86",
   "outputs": [],
   "execution_count": 24
  },
  {
   "metadata": {
    "ExecuteTime": {
     "end_time": "2024-12-27T19:13:41.865255Z",
     "start_time": "2024-12-27T19:13:41.862345Z"
    }
   },
   "cell_type": "code",
   "source": [
    "print(\"Minimum Distance Results:\")\n",
    "for result in min_results:\n",
    "    print(result)"
   ],
   "id": "664071b81188b062",
   "outputs": [
    {
     "name": "stdout",
     "output_type": "stream",
     "text": [
      "Minimum Distance Results:\n",
      "{'distance': 2020, 'mutationType': 'INSERTION', 'crossoverType': 'OX1', 'selectionType': 'RANK', 'genes': [16, 17, 14, 3, 9, 19, 1, 2, 28, 25, 4, 8, 11, 5, 27, 0, 20, 12, 15, 23, 7, 26, 22, 6, 24, 18, 10, 21, 13]}\n",
      "{'distance': 2020, 'mutationType': 'INSERTION', 'crossoverType': 'OX1', 'selectionType': 'RANK', 'genes': [17, 16, 13, 21, 10, 18, 24, 6, 22, 26, 7, 23, 15, 12, 20, 0, 27, 5, 11, 8, 4, 25, 28, 2, 1, 19, 9, 3, 14]}\n",
      "{'distance': 2020, 'mutationType': 'INSERTION', 'crossoverType': 'OX1', 'selectionType': 'RANK', 'genes': [16, 13, 21, 10, 18, 24, 6, 22, 26, 7, 23, 15, 12, 20, 0, 27, 5, 11, 8, 4, 25, 28, 2, 1, 19, 9, 3, 14, 17]}\n",
      "{'distance': 2020, 'mutationType': 'INSERTION', 'crossoverType': 'OX1', 'selectionType': 'RANK', 'genes': [8, 4, 25, 28, 2, 1, 19, 9, 3, 14, 17, 16, 13, 21, 10, 18, 24, 6, 22, 26, 7, 23, 15, 12, 20, 0, 27, 5, 11]}\n",
      "{'distance': 2020, 'mutationType': 'INSERTION', 'crossoverType': 'OX1', 'selectionType': 'RANK', 'genes': [28, 25, 4, 8, 11, 5, 27, 0, 20, 12, 15, 23, 7, 26, 22, 6, 24, 18, 10, 21, 13, 16, 17, 14, 3, 9, 19, 1, 2]}\n",
      "{'distance': 2020, 'mutationType': 'INSERTION', 'crossoverType': 'OX1', 'selectionType': 'RANK', 'genes': [21, 13, 16, 17, 14, 3, 9, 19, 1, 2, 28, 25, 4, 8, 11, 5, 27, 0, 20, 12, 15, 23, 7, 26, 22, 6, 24, 18, 10]}\n",
      "{'distance': 2020, 'mutationType': 'INSERTION', 'crossoverType': 'OX1', 'selectionType': 'RANK', 'genes': [4, 25, 28, 2, 1, 19, 9, 3, 14, 17, 16, 13, 21, 10, 18, 24, 6, 22, 26, 7, 23, 15, 12, 20, 0, 27, 5, 11, 8]}\n",
      "{'distance': 2020, 'mutationType': 'INSERTION', 'crossoverType': 'OX1', 'selectionType': 'RANK', 'genes': [23, 15, 12, 20, 0, 27, 5, 11, 8, 4, 25, 28, 2, 1, 19, 9, 3, 14, 17, 16, 13, 21, 10, 18, 24, 6, 22, 26, 7]}\n",
      "{'distance': 2020, 'mutationType': 'INSERTION', 'crossoverType': 'OX1', 'selectionType': 'RANK', 'genes': [11, 8, 4, 25, 28, 2, 1, 19, 9, 3, 14, 17, 16, 13, 21, 10, 18, 24, 6, 22, 26, 7, 23, 15, 12, 20, 0, 27, 5]}\n",
      "{'distance': 2020, 'mutationType': 'INSERTION', 'crossoverType': 'OX1', 'selectionType': 'TOURNAMENT', 'genes': [3, 14, 17, 16, 13, 21, 10, 18, 24, 6, 22, 26, 7, 23, 15, 12, 20, 0, 27, 5, 11, 8, 4, 25, 28, 2, 1, 19, 9]}\n",
      "{'distance': 2020, 'mutationType': 'INSERTION', 'crossoverType': 'OX1', 'selectionType': 'TOURNAMENT', 'genes': [17, 16, 13, 21, 10, 18, 24, 6, 22, 26, 7, 23, 15, 12, 20, 0, 27, 5, 11, 8, 4, 25, 28, 2, 1, 19, 9, 3, 14]}\n",
      "{'distance': 2020, 'mutationType': 'INVERSION', 'crossoverType': 'OX1', 'selectionType': 'RANK', 'genes': [27, 5, 11, 8, 4, 25, 28, 2, 1, 19, 9, 3, 14, 17, 16, 13, 21, 10, 18, 24, 6, 22, 26, 7, 23, 15, 12, 20, 0]}\n",
      "{'distance': 2020, 'mutationType': 'INVERSION', 'crossoverType': 'OX1', 'selectionType': 'RANK', 'genes': [2, 1, 19, 9, 3, 14, 17, 16, 13, 21, 10, 18, 24, 6, 22, 26, 7, 23, 15, 12, 20, 0, 27, 5, 11, 8, 4, 25, 28]}\n",
      "{'distance': 2020, 'mutationType': 'INVERSION', 'crossoverType': 'OX1', 'selectionType': 'RANK', 'genes': [19, 1, 2, 28, 25, 4, 8, 11, 5, 27, 0, 20, 12, 15, 23, 7, 26, 22, 6, 24, 18, 10, 21, 13, 16, 17, 14, 3, 9]}\n",
      "{'distance': 2020, 'mutationType': 'INVERSION', 'crossoverType': 'OX1', 'selectionType': 'RANK', 'genes': [23, 15, 12, 20, 0, 27, 5, 11, 8, 4, 25, 28, 2, 1, 19, 9, 3, 14, 17, 16, 13, 21, 10, 18, 24, 6, 22, 26, 7]}\n",
      "{'distance': 2020, 'mutationType': 'INVERSION', 'crossoverType': 'OX1', 'selectionType': 'RANK', 'genes': [24, 6, 22, 26, 7, 23, 15, 12, 20, 0, 27, 5, 11, 8, 4, 25, 28, 2, 1, 19, 9, 3, 14, 17, 16, 13, 21, 10, 18]}\n",
      "{'distance': 2020, 'mutationType': 'INVERSION', 'crossoverType': 'OX1', 'selectionType': 'RANK', 'genes': [16, 17, 14, 3, 9, 19, 1, 2, 28, 25, 4, 8, 11, 5, 27, 0, 20, 12, 15, 23, 7, 26, 22, 6, 24, 18, 10, 21, 13]}\n",
      "{'distance': 2020, 'mutationType': 'INVERSION', 'crossoverType': 'OX1', 'selectionType': 'RANK', 'genes': [22, 6, 24, 18, 10, 21, 13, 16, 17, 14, 3, 9, 19, 1, 2, 28, 25, 4, 8, 11, 5, 27, 0, 20, 12, 15, 23, 7, 26]}\n",
      "{'distance': 2020, 'mutationType': 'INVERSION', 'crossoverType': 'OX1', 'selectionType': 'RANK', 'genes': [24, 6, 22, 26, 7, 23, 15, 12, 20, 0, 27, 5, 11, 8, 4, 25, 28, 2, 1, 19, 9, 3, 14, 17, 16, 13, 21, 10, 18]}\n",
      "{'distance': 2020, 'mutationType': 'INVERSION', 'crossoverType': 'OX1', 'selectionType': 'RANK', 'genes': [9, 3, 14, 17, 16, 13, 21, 10, 18, 24, 6, 22, 26, 7, 23, 15, 12, 20, 0, 27, 5, 11, 8, 4, 25, 28, 2, 1, 19]}\n",
      "{'distance': 2020, 'mutationType': 'INVERSION', 'crossoverType': 'OX1', 'selectionType': 'RANK', 'genes': [9, 3, 14, 17, 16, 13, 21, 10, 18, 24, 6, 22, 26, 7, 23, 15, 12, 20, 0, 27, 5, 11, 8, 4, 25, 28, 2, 1, 19]}\n",
      "{'distance': 2020, 'mutationType': 'INVERSION', 'crossoverType': 'OX1', 'selectionType': 'RANK', 'genes': [22, 6, 24, 18, 10, 21, 13, 16, 17, 14, 3, 9, 19, 1, 2, 28, 25, 4, 8, 11, 5, 27, 0, 20, 12, 15, 23, 7, 26]}\n",
      "{'distance': 2020, 'mutationType': 'INVERSION', 'crossoverType': 'OX1', 'selectionType': 'RANK', 'genes': [11, 8, 4, 25, 28, 2, 1, 19, 9, 3, 14, 17, 16, 13, 21, 10, 18, 24, 6, 22, 26, 7, 23, 15, 12, 20, 0, 27, 5]}\n",
      "{'distance': 2020, 'mutationType': 'INVERSION', 'crossoverType': 'OX1', 'selectionType': 'RANK', 'genes': [12, 15, 23, 7, 26, 22, 6, 24, 18, 10, 21, 13, 16, 17, 14, 3, 9, 19, 1, 2, 28, 25, 4, 8, 11, 5, 27, 0, 20]}\n",
      "{'distance': 2020, 'mutationType': 'INVERSION', 'crossoverType': 'OX1', 'selectionType': 'RANK', 'genes': [28, 2, 1, 19, 9, 3, 14, 17, 16, 13, 21, 10, 18, 24, 6, 22, 26, 7, 23, 15, 12, 20, 0, 27, 5, 11, 8, 4, 25]}\n",
      "{'distance': 2020, 'mutationType': 'INVERSION', 'crossoverType': 'OX1', 'selectionType': 'RANK', 'genes': [14, 17, 16, 13, 21, 10, 18, 24, 6, 22, 26, 7, 23, 15, 12, 20, 0, 27, 5, 11, 8, 4, 25, 28, 2, 1, 19, 9, 3]}\n",
      "{'distance': 2020, 'mutationType': 'INVERSION', 'crossoverType': 'OX1', 'selectionType': 'RANK', 'genes': [6, 22, 26, 7, 23, 15, 12, 20, 0, 27, 5, 11, 8, 4, 25, 28, 2, 1, 19, 9, 3, 14, 17, 16, 13, 21, 10, 18, 24]}\n",
      "{'distance': 2020, 'mutationType': 'INVERSION', 'crossoverType': 'OX1', 'selectionType': 'RANK', 'genes': [20, 0, 27, 5, 11, 8, 4, 25, 28, 2, 1, 19, 9, 3, 14, 17, 16, 13, 21, 10, 18, 24, 6, 22, 26, 7, 23, 15, 12]}\n",
      "{'distance': 2020, 'mutationType': 'INVERSION', 'crossoverType': 'OX1', 'selectionType': 'RANK', 'genes': [23, 7, 26, 22, 6, 24, 18, 10, 21, 13, 16, 17, 14, 3, 9, 19, 1, 2, 28, 25, 4, 8, 11, 5, 27, 0, 20, 12, 15]}\n",
      "{'distance': 2020, 'mutationType': 'INVERSION', 'crossoverType': 'OX1', 'selectionType': 'RANK', 'genes': [17, 14, 3, 9, 19, 1, 2, 28, 25, 4, 8, 11, 5, 27, 0, 20, 12, 15, 23, 7, 26, 22, 6, 24, 18, 10, 21, 13, 16]}\n",
      "{'distance': 2020, 'mutationType': 'INVERSION', 'crossoverType': 'OX1', 'selectionType': 'RANK', 'genes': [5, 11, 8, 4, 25, 28, 2, 1, 19, 9, 3, 14, 17, 16, 13, 21, 10, 18, 24, 6, 22, 26, 7, 23, 15, 12, 20, 0, 27]}\n",
      "{'distance': 2020, 'mutationType': 'INVERSION', 'crossoverType': 'OX1', 'selectionType': 'RANK', 'genes': [13, 16, 17, 14, 3, 9, 19, 1, 2, 28, 25, 4, 8, 11, 5, 27, 0, 20, 12, 15, 23, 7, 26, 22, 6, 24, 18, 10, 21]}\n",
      "{'distance': 2020, 'mutationType': 'INVERSION', 'crossoverType': 'OX1', 'selectionType': 'RANK', 'genes': [25, 4, 8, 11, 5, 27, 0, 20, 12, 15, 23, 7, 26, 22, 6, 24, 18, 10, 21, 13, 16, 17, 14, 3, 9, 19, 1, 2, 28]}\n",
      "{'distance': 2020, 'mutationType': 'INVERSION', 'crossoverType': 'OX1', 'selectionType': 'RANK', 'genes': [16, 13, 21, 10, 18, 24, 6, 22, 26, 7, 23, 15, 12, 20, 0, 27, 5, 11, 8, 4, 25, 28, 2, 1, 19, 9, 3, 14, 17]}\n",
      "{'distance': 2020, 'mutationType': 'INVERSION', 'crossoverType': 'OX1', 'selectionType': 'RANK', 'genes': [20, 0, 27, 5, 11, 8, 4, 25, 28, 2, 1, 19, 9, 3, 14, 17, 16, 13, 21, 10, 18, 24, 6, 22, 26, 7, 23, 15, 12]}\n",
      "{'distance': 2020, 'mutationType': 'INVERSION', 'crossoverType': 'OX1', 'selectionType': 'RANK', 'genes': [27, 0, 20, 12, 15, 23, 7, 26, 22, 6, 24, 18, 10, 21, 13, 16, 17, 14, 3, 9, 19, 1, 2, 28, 25, 4, 8, 11, 5]}\n",
      "{'distance': 2020, 'mutationType': 'INVERSION', 'crossoverType': 'OX1', 'selectionType': 'TOURNAMENT', 'genes': [7, 26, 22, 6, 24, 18, 10, 21, 13, 16, 17, 14, 3, 9, 19, 1, 2, 28, 25, 4, 8, 11, 5, 27, 0, 20, 12, 15, 23]}\n",
      "{'distance': 2020, 'mutationType': 'INVERSION', 'crossoverType': 'OX1', 'selectionType': 'TOURNAMENT', 'genes': [9, 19, 1, 2, 28, 25, 4, 8, 11, 5, 27, 0, 20, 12, 15, 23, 7, 26, 22, 6, 24, 18, 10, 21, 13, 16, 17, 14, 3]}\n",
      "{'distance': 2020, 'mutationType': 'INVERSION', 'crossoverType': 'OX1', 'selectionType': 'TOURNAMENT', 'genes': [7, 23, 15, 12, 20, 0, 27, 5, 11, 8, 4, 25, 28, 2, 1, 19, 9, 3, 14, 17, 16, 13, 21, 10, 18, 24, 6, 22, 26]}\n",
      "{'distance': 2020, 'mutationType': 'INVERSION', 'crossoverType': 'OX1', 'selectionType': 'TOURNAMENT', 'genes': [12, 20, 0, 27, 5, 11, 8, 4, 25, 28, 2, 1, 19, 9, 3, 14, 17, 16, 13, 21, 10, 18, 24, 6, 22, 26, 7, 23, 15]}\n",
      "{'distance': 2020, 'mutationType': 'INVERSION', 'crossoverType': 'OX1', 'selectionType': 'TOURNAMENT', 'genes': [1, 2, 28, 25, 4, 8, 11, 5, 27, 0, 20, 12, 15, 23, 7, 26, 22, 6, 24, 18, 10, 21, 13, 16, 17, 14, 3, 9, 19]}\n",
      "{'distance': 2020, 'mutationType': 'INVERSION', 'crossoverType': 'OX1', 'selectionType': 'TOURNAMENT', 'genes': [19, 9, 3, 14, 17, 16, 13, 21, 10, 18, 24, 6, 22, 26, 7, 23, 15, 12, 20, 0, 27, 5, 11, 8, 4, 25, 28, 2, 1]}\n",
      "{'distance': 2020, 'mutationType': 'INVERSION', 'crossoverType': 'OX1', 'selectionType': 'TOURNAMENT', 'genes': [28, 2, 1, 19, 9, 3, 14, 17, 16, 13, 21, 10, 18, 24, 6, 22, 26, 7, 23, 15, 12, 20, 0, 27, 5, 11, 8, 4, 25]}\n",
      "{'distance': 2020, 'mutationType': 'INVERSION', 'crossoverType': 'OX1', 'selectionType': 'TOURNAMENT', 'genes': [28, 2, 1, 19, 9, 3, 14, 17, 16, 13, 21, 10, 18, 24, 6, 22, 26, 7, 23, 15, 12, 20, 0, 27, 5, 11, 8, 4, 25]}\n",
      "{'distance': 2020, 'mutationType': 'INVERSION', 'crossoverType': 'OX1', 'selectionType': 'TOURNAMENT', 'genes': [18, 24, 6, 22, 26, 7, 23, 15, 12, 20, 0, 27, 5, 11, 8, 4, 25, 28, 2, 1, 19, 9, 3, 14, 17, 16, 13, 21, 10]}\n",
      "{'distance': 2020, 'mutationType': 'INVERSION', 'crossoverType': 'OX1', 'selectionType': 'TOURNAMENT', 'genes': [1, 19, 9, 3, 14, 17, 16, 13, 21, 10, 18, 24, 6, 22, 26, 7, 23, 15, 12, 20, 0, 27, 5, 11, 8, 4, 25, 28, 2]}\n",
      "{'distance': 2020, 'mutationType': 'INVERSION', 'crossoverType': 'OX1', 'selectionType': 'TOURNAMENT', 'genes': [1, 2, 28, 25, 4, 8, 11, 5, 27, 0, 20, 12, 15, 23, 7, 26, 22, 6, 24, 18, 10, 21, 13, 16, 17, 14, 3, 9, 19]}\n",
      "{'distance': 2020, 'mutationType': 'INVERSION', 'crossoverType': 'OX1', 'selectionType': 'TOURNAMENT', 'genes': [26, 7, 23, 15, 12, 20, 0, 27, 5, 11, 8, 4, 25, 28, 2, 1, 19, 9, 3, 14, 17, 16, 13, 21, 10, 18, 24, 6, 22]}\n",
      "{'distance': 2020, 'mutationType': 'INVERSION', 'crossoverType': 'OX1', 'selectionType': 'TOURNAMENT', 'genes': [4, 8, 11, 5, 27, 0, 20, 12, 15, 23, 7, 26, 22, 6, 24, 18, 10, 21, 13, 16, 17, 14, 3, 9, 19, 1, 2, 28, 25]}\n",
      "{'distance': 2020, 'mutationType': 'INVERSION', 'crossoverType': 'OX1', 'selectionType': 'TOURNAMENT', 'genes': [11, 8, 4, 25, 28, 2, 1, 19, 9, 3, 14, 17, 16, 13, 21, 10, 18, 24, 6, 22, 26, 7, 23, 15, 12, 20, 0, 27, 5]}\n",
      "{'distance': 2020, 'mutationType': 'INVERSION', 'crossoverType': 'OX1', 'selectionType': 'TOURNAMENT', 'genes': [0, 20, 12, 15, 23, 7, 26, 22, 6, 24, 18, 10, 21, 13, 16, 17, 14, 3, 9, 19, 1, 2, 28, 25, 4, 8, 11, 5, 27]}\n",
      "{'distance': 2020, 'mutationType': 'INVERSION', 'crossoverType': 'OX1', 'selectionType': 'TOURNAMENT', 'genes': [28, 2, 1, 19, 9, 3, 14, 17, 16, 13, 21, 10, 18, 24, 6, 22, 26, 7, 23, 15, 12, 20, 0, 27, 5, 11, 8, 4, 25]}\n",
      "{'distance': 2020, 'mutationType': 'INVERSION', 'crossoverType': 'OX1', 'selectionType': 'TOURNAMENT', 'genes': [22, 26, 7, 23, 15, 12, 20, 0, 27, 5, 11, 8, 4, 25, 28, 2, 1, 19, 9, 3, 14, 17, 16, 13, 21, 10, 18, 24, 6]}\n",
      "{'distance': 2020, 'mutationType': 'INVERSION', 'crossoverType': 'OX1', 'selectionType': 'TOURNAMENT', 'genes': [5, 11, 8, 4, 25, 28, 2, 1, 19, 9, 3, 14, 17, 16, 13, 21, 10, 18, 24, 6, 22, 26, 7, 23, 15, 12, 20, 0, 27]}\n",
      "{'distance': 2020, 'mutationType': 'ADJACENT_SWAP', 'crossoverType': 'OX1', 'selectionType': 'RANK', 'genes': [13, 21, 10, 18, 24, 6, 22, 26, 7, 23, 15, 12, 20, 0, 27, 5, 11, 8, 4, 25, 28, 2, 1, 19, 9, 3, 14, 17, 16]}\n",
      "{'distance': 2020, 'mutationType': 'ADJACENT_SWAP', 'crossoverType': 'OX1', 'selectionType': 'RANK', 'genes': [22, 26, 7, 23, 15, 12, 20, 0, 27, 5, 11, 8, 4, 25, 28, 2, 1, 19, 9, 3, 14, 17, 16, 13, 21, 10, 18, 24, 6]}\n",
      "{'distance': 2020, 'mutationType': 'ADJACENT_SWAP', 'crossoverType': 'OX1', 'selectionType': 'RANK', 'genes': [3, 9, 19, 1, 2, 28, 25, 4, 8, 11, 5, 27, 0, 20, 12, 15, 23, 7, 26, 22, 6, 24, 18, 10, 21, 13, 16, 17, 14]}\n",
      "{'distance': 2020, 'mutationType': 'ADJACENT_SWAP', 'crossoverType': 'OX1', 'selectionType': 'RANK', 'genes': [4, 25, 28, 2, 1, 19, 9, 3, 14, 17, 16, 13, 21, 10, 18, 24, 6, 22, 26, 7, 23, 15, 12, 20, 0, 27, 5, 11, 8]}\n",
      "{'distance': 2020, 'mutationType': 'ADJACENT_SWAP', 'crossoverType': 'OX1', 'selectionType': 'RANK', 'genes': [7, 23, 15, 12, 20, 0, 27, 5, 11, 8, 4, 25, 28, 2, 1, 19, 9, 3, 14, 17, 16, 13, 21, 10, 18, 24, 6, 22, 26]}\n",
      "{'distance': 2020, 'mutationType': 'ADJACENT_SWAP', 'crossoverType': 'OX1', 'selectionType': 'RANK', 'genes': [0, 27, 5, 11, 8, 4, 25, 28, 2, 1, 19, 9, 3, 14, 17, 16, 13, 21, 10, 18, 24, 6, 22, 26, 7, 23, 15, 12, 20]}\n",
      "{'distance': 2020, 'mutationType': 'ADJACENT_SWAP', 'crossoverType': 'OX1', 'selectionType': 'RANK', 'genes': [8, 11, 5, 27, 0, 20, 12, 15, 23, 7, 26, 22, 6, 24, 18, 10, 21, 13, 16, 17, 14, 3, 9, 19, 1, 2, 28, 25, 4]}\n",
      "{'distance': 2020, 'mutationType': 'ADJACENT_SWAP', 'crossoverType': 'OX1', 'selectionType': 'RANK', 'genes': [7, 23, 15, 12, 20, 0, 27, 5, 11, 8, 4, 25, 28, 2, 1, 19, 9, 3, 14, 17, 16, 13, 21, 10, 18, 24, 6, 22, 26]}\n",
      "{'distance': 2020, 'mutationType': 'ADJACENT_SWAP', 'crossoverType': 'OX1', 'selectionType': 'RANK', 'genes': [0, 27, 5, 11, 8, 4, 25, 28, 2, 1, 19, 9, 3, 14, 17, 16, 13, 21, 10, 18, 24, 6, 22, 26, 7, 23, 15, 12, 20]}\n",
      "{'distance': 2020, 'mutationType': 'ADJACENT_SWAP', 'crossoverType': 'OX1', 'selectionType': 'RANK', 'genes': [13, 16, 17, 14, 3, 9, 19, 1, 2, 28, 25, 4, 8, 11, 5, 27, 0, 20, 12, 15, 23, 7, 26, 22, 6, 24, 18, 10, 21]}\n",
      "{'distance': 2020, 'mutationType': 'ADJACENT_SWAP', 'crossoverType': 'OX1', 'selectionType': 'RANK', 'genes': [17, 16, 13, 21, 10, 18, 24, 6, 22, 26, 7, 23, 15, 12, 20, 0, 27, 5, 11, 8, 4, 25, 28, 2, 1, 19, 9, 3, 14]}\n",
      "{'distance': 2020, 'mutationType': 'ADJACENT_SWAP', 'crossoverType': 'OX1', 'selectionType': 'RANK', 'genes': [7, 23, 15, 12, 20, 0, 27, 5, 11, 8, 4, 25, 28, 2, 1, 19, 9, 3, 14, 17, 16, 13, 21, 10, 18, 24, 6, 22, 26]}\n",
      "{'distance': 2020, 'mutationType': 'ADJACENT_SWAP', 'crossoverType': 'OX1', 'selectionType': 'RANK', 'genes': [20, 0, 27, 5, 11, 8, 4, 25, 28, 2, 1, 19, 9, 3, 14, 17, 16, 13, 21, 10, 18, 24, 6, 22, 26, 7, 23, 15, 12]}\n",
      "{'distance': 2020, 'mutationType': 'ADJACENT_SWAP', 'crossoverType': 'OX1', 'selectionType': 'TOURNAMENT', 'genes': [23, 15, 12, 20, 0, 27, 5, 11, 8, 4, 25, 28, 2, 1, 19, 9, 3, 14, 17, 16, 13, 21, 10, 18, 24, 6, 22, 26, 7]}\n",
      "{'distance': 2020, 'mutationType': 'SWAP', 'crossoverType': 'OX1', 'selectionType': 'RANK', 'genes': [13, 16, 17, 14, 3, 9, 19, 1, 2, 28, 25, 4, 8, 11, 5, 27, 0, 20, 12, 15, 23, 7, 26, 22, 6, 24, 18, 10, 21]}\n",
      "{'distance': 2020, 'mutationType': 'SWAP', 'crossoverType': 'OX1', 'selectionType': 'RANK', 'genes': [13, 16, 17, 14, 3, 9, 19, 1, 2, 28, 25, 4, 8, 11, 5, 27, 0, 20, 12, 15, 23, 7, 26, 22, 6, 24, 18, 10, 21]}\n",
      "{'distance': 2020, 'mutationType': 'SWAP', 'crossoverType': 'OX1', 'selectionType': 'RANK', 'genes': [11, 5, 27, 0, 20, 12, 15, 23, 7, 26, 22, 6, 24, 18, 10, 21, 13, 16, 17, 14, 3, 9, 19, 1, 2, 28, 25, 4, 8]}\n",
      "{'distance': 2020, 'mutationType': 'SWAP', 'crossoverType': 'OX1', 'selectionType': 'RANK', 'genes': [22, 26, 7, 23, 15, 12, 20, 0, 27, 5, 11, 8, 4, 25, 28, 2, 1, 19, 9, 3, 14, 17, 16, 13, 21, 10, 18, 24, 6]}\n",
      "{'distance': 2020, 'mutationType': 'SWAP', 'crossoverType': 'OX1', 'selectionType': 'RANK', 'genes': [3, 14, 17, 16, 13, 21, 10, 18, 24, 6, 22, 26, 7, 23, 15, 12, 20, 0, 27, 5, 11, 8, 4, 25, 28, 2, 1, 19, 9]}\n",
      "{'distance': 2020, 'mutationType': 'SWAP', 'crossoverType': 'OX1', 'selectionType': 'RANK', 'genes': [16, 17, 14, 3, 9, 19, 1, 2, 28, 25, 4, 8, 11, 5, 27, 0, 20, 12, 15, 23, 7, 26, 22, 6, 24, 18, 10, 21, 13]}\n",
      "{'distance': 2020, 'mutationType': 'SWAP', 'crossoverType': 'OX1', 'selectionType': 'RANK', 'genes': [23, 15, 12, 20, 0, 27, 5, 11, 8, 4, 25, 28, 2, 1, 19, 9, 3, 14, 17, 16, 13, 21, 10, 18, 24, 6, 22, 26, 7]}\n",
      "{'distance': 2020, 'mutationType': 'SWAP', 'crossoverType': 'OX1', 'selectionType': 'RANK', 'genes': [0, 27, 5, 11, 8, 4, 25, 28, 2, 1, 19, 9, 3, 14, 17, 16, 13, 21, 10, 18, 24, 6, 22, 26, 7, 23, 15, 12, 20]}\n",
      "{'distance': 2020, 'mutationType': 'SWAP', 'crossoverType': 'OX1', 'selectionType': 'RANK', 'genes': [26, 7, 23, 15, 12, 20, 0, 27, 5, 11, 8, 4, 25, 28, 2, 1, 19, 9, 3, 14, 17, 16, 13, 21, 10, 18, 24, 6, 22]}\n",
      "{'distance': 2020, 'mutationType': 'SWAP', 'crossoverType': 'OX1', 'selectionType': 'RANK', 'genes': [19, 9, 3, 14, 17, 16, 13, 21, 10, 18, 24, 6, 22, 26, 7, 23, 15, 12, 20, 0, 27, 5, 11, 8, 4, 25, 28, 2, 1]}\n",
      "{'distance': 2020, 'mutationType': 'SWAP', 'crossoverType': 'OX1', 'selectionType': 'RANK', 'genes': [12, 20, 0, 27, 5, 11, 8, 4, 25, 28, 2, 1, 19, 9, 3, 14, 17, 16, 13, 21, 10, 18, 24, 6, 22, 26, 7, 23, 15]}\n",
      "{'distance': 2020, 'mutationType': 'SWAP', 'crossoverType': 'OX1', 'selectionType': 'RANK', 'genes': [24, 6, 22, 26, 7, 23, 15, 12, 20, 0, 27, 5, 11, 8, 4, 25, 28, 2, 1, 19, 9, 3, 14, 17, 16, 13, 21, 10, 18]}\n",
      "{'distance': 2020, 'mutationType': 'SWAP', 'crossoverType': 'OX1', 'selectionType': 'RANK', 'genes': [8, 4, 25, 28, 2, 1, 19, 9, 3, 14, 17, 16, 13, 21, 10, 18, 24, 6, 22, 26, 7, 23, 15, 12, 20, 0, 27, 5, 11]}\n",
      "{'distance': 2020, 'mutationType': 'SWAP', 'crossoverType': 'OX1', 'selectionType': 'RANK', 'genes': [3, 14, 17, 16, 13, 21, 10, 18, 24, 6, 22, 26, 7, 23, 15, 12, 20, 0, 27, 5, 11, 8, 4, 25, 28, 2, 1, 19, 9]}\n"
     ]
    }
   ],
   "execution_count": 25
  },
  {
   "metadata": {
    "ExecuteTime": {
     "end_time": "2024-12-27T19:13:41.883130Z",
     "start_time": "2024-12-27T19:13:41.880846Z"
    }
   },
   "cell_type": "code",
   "source": [
    "print(\"Maximum Distance Results:\")\n",
    "for result in max_results:\n",
    "    print(result)"
   ],
   "id": "4b5dac6f557a677",
   "outputs": [
    {
     "name": "stdout",
     "output_type": "stream",
     "text": [
      "Maximum Distance Results:\n",
      "{'distance': 4775, 'mutationType': 'ADJACENT_SWAP', 'crossoverType': 'SINGLE_POINT', 'selectionType': 'ROULETTE', 'genes': [20, 15, 14, 27, 1, 25, 19, 26, 28, 8, 16, 21, 3, 9, 4, 2, 5, 0, 17, 13, 18, 23, 7, 24, 10, 12, 6, 22, 11]}\n"
     ]
    }
   ],
   "execution_count": 26
  },
  {
   "cell_type": "code",
   "id": "7b52a69f-9ba1-4c49-a38e-51d8de158af5",
   "metadata": {
    "ExecuteTime": {
     "end_time": "2024-12-27T19:13:41.904866Z",
     "start_time": "2024-12-27T19:13:41.901900Z"
    }
   },
   "source": [
    "combination_counts = {}\n",
    "\n",
    "for result in min_results:\n",
    "    key = (result['mutationType'], result['crossoverType'], result['selectionType'])\n",
    "    if key not in combination_counts:\n",
    "        combination_counts[key] = 0\n",
    "    combination_counts[key] += 1\n",
    "\n",
    "sorted_combinations = sorted(combination_counts.items(), key=lambda x: x[1], reverse=True)"
   ],
   "outputs": [],
   "execution_count": 27
  },
  {
   "cell_type": "code",
   "id": "b0b23a31-4d1f-43a0-995f-b98f43ae6413",
   "metadata": {
    "ExecuteTime": {
     "end_time": "2024-12-27T19:13:41.917740Z",
     "start_time": "2024-12-27T19:13:41.915418Z"
    }
   },
   "source": [
    "print(\"\\nCombination Counts in Minimum Distance Results (Sorted Descending):\")\n",
    "for (mutation_type, crossover_type, selection_type), count in sorted_combinations:\n",
    "    print(f\"Crossover Type: {crossover_type}, Selection Type: {selection_type}, Mutation Type: {mutation_type}, -> Count: {count}\")"
   ],
   "outputs": [
    {
     "name": "stdout",
     "output_type": "stream",
     "text": [
      "\n",
      "Combination Counts in Minimum Distance Results (Sorted Descending):\n",
      "Crossover Type: OX1, Selection Type: RANK, Mutation Type: INVERSION, -> Count: 25\n",
      "Crossover Type: OX1, Selection Type: TOURNAMENT, Mutation Type: INVERSION, -> Count: 18\n",
      "Crossover Type: OX1, Selection Type: RANK, Mutation Type: SWAP, -> Count: 14\n",
      "Crossover Type: OX1, Selection Type: RANK, Mutation Type: ADJACENT_SWAP, -> Count: 13\n",
      "Crossover Type: OX1, Selection Type: RANK, Mutation Type: INSERTION, -> Count: 9\n",
      "Crossover Type: OX1, Selection Type: TOURNAMENT, Mutation Type: INSERTION, -> Count: 2\n",
      "Crossover Type: OX1, Selection Type: TOURNAMENT, Mutation Type: ADJACENT_SWAP, -> Count: 1\n"
     ]
    }
   ],
   "execution_count": 28
  }
 ],
 "metadata": {
  "kernelspec": {
   "display_name": "Python 3 (ipykernel)",
   "language": "python",
   "name": "python3"
  },
  "language_info": {
   "codemirror_mode": {
    "name": "ipython",
    "version": 3
   },
   "file_extension": ".py",
   "mimetype": "text/x-python",
   "name": "python",
   "nbconvert_exporter": "python",
   "pygments_lexer": "ipython3",
   "version": "3.9.6"
  }
 },
 "nbformat": 4,
 "nbformat_minor": 5
}
